{
  "nbformat": 4,
  "nbformat_minor": 0,
  "metadata": {
    "colab": {
      "provenance": []
    },
    "kernelspec": {
      "name": "python3",
      "display_name": "Python 3"
    },
    "language_info": {
      "name": "python"
    }
  },
  "cells": [
    {
      "cell_type": "markdown",
      "source": [
        "The **Cox-Ross-Rubinstein (CRR) model** is a popular binomial option pricing model, which is used to price options by recursively calculating the probability of the underlying asset moving up or down over a series of time steps.\n",
        "\n",
        "The model is a discrete-time numerical method for option pricing, specifically for pricing European options. It is a modification of the original binomial model proposed by Black and Scholes, which assumes that stock prices follow a log-normal distribution, and uses continuous-time stochastic calculus to model the evolution of stock prices.\n",
        "\n",
        "The CRR model, on the other hand, assumes that the stock price can only take on two possible values in each time step, and uses a binomial tree to represent the possible stock price paths over time. In each time step, the stock price can either go up by a factor of u or down by a factor of d, and the probabilities of an up move and a down move are calculated based on the risk-free interest rate and the volatility of the stock price.\n",
        "\n",
        "Starting at the final time step, the option value is calculated by comparing the payoff of exercising the option with the current stock price. The option value at each earlier time step is then calculated by discounting the expected future option values at that time step, using the risk-free interest rate.\n",
        "\n",
        "The CRR model is popular because it is relatively easy to implement and understand, and it can handle more complex options than the original Black-Scholes model, such as American options or options on assets that pay dividends. However, it is still a simplification of the real-world stock price dynamics, and it can be computationally intensive for large numbers of time steps or complex option structures.\n",
        "\n",
        "The basic steps for the CRR model are as follows:\n",
        "\n",
        "\n",
        "\n",
        "1.   Define the parameters: These include the current stock price, the strike price, the time to expiration, the risk-free interest rate, and the volatility of the underlying asset.\n",
        "\n",
        "2. Calculate the size of the up and down movements: These are calculated based on the volatility of the underlying asset and the time to expiration.\n",
        "\n",
        "3. Calculate the probability of an up or down movement: These probabilities are calculated based on the size of the up and down movements and the risk-free interest rate.\n",
        "\n",
        "4. Calculate the option values: These are calculated recursively starting from the last time step and working backward to the first time step."
      ],
      "metadata": {
        "id": "QU7Ipin17ebb"
      }
    },
    {
      "cell_type": "code",
      "execution_count": 8,
      "metadata": {
        "id": "TyNWysaO4_f_",
        "colab": {
          "base_uri": "https://localhost:8080/"
        },
        "outputId": "71295263-fdeb-4d9a-b467-b575ec3af2c1"
      },
      "outputs": [
        {
          "output_type": "stream",
          "name": "stdout",
          "text": [
            "The price of the European call option is: 9.512294245007299\n"
          ]
        }
      ],
      "source": [
        "import numpy as np\n",
        "\n",
        "def crr_call(S, K, T, r, sigma, N):\n",
        "    \"\"\"\n",
        "    Calculate the price of a European call option using the Cox-Ross-Rubinstein model.\n",
        "    \n",
        "    Parameters:\n",
        "    S (float): the current stock price\n",
        "    K (float): the strike price\n",
        "    T (float): the time to expiration (in years)\n",
        "    r (float): the risk-free interest rate\n",
        "    sigma (float): the volatility of the underlying asset\n",
        "    N (int): the number of time steps to use in the binomial tree\n",
        "    \n",
        "    Returns:\n",
        "    float: the price of the option\n",
        "    \"\"\"\n",
        "    dt = T / N\n",
        "    u = np.exp(sigma * np.sqrt(dt))\n",
        "    d = 1 / u\n",
        "    p = (np.exp(r * dt) - d) / (u - d)\n",
        "    \n",
        "    # Initialize the option values at expiration\n",
        "    option_values = np.maximum(S * u ** np.arange(N+1) * d ** np.arange(N+1) - K, 0)\n",
        "    \n",
        "    # Calculate option values at earlier time steps\n",
        "    for i in range(N-1, -1, -1):\n",
        "        option_values = np.exp(-r * dt) * (p * option_values[:-1] + (1 - p) * option_values[1:])\n",
        "    \n",
        "    return option_values[0]\n",
        "\n",
        "# Example usage\n",
        "S = 100\n",
        "K = 90  \n",
        "T = 1\n",
        "r = 0.05\n",
        "sigma = 0.2\n",
        "N = 100\n",
        "\n",
        "option_price = crr_call(S, K, T, r, sigma, N)\n",
        "print(\"The price of the European call option is:\", option_price)\n",
        "\n"
      ]
    },
    {
      "cell_type": "markdown",
      "source": [
        "In this example, we define the input parameters S, K, T, r, sigma, and N, which represent the current stock price, strike price, time to expiration, risk-free interest rate, volatility of the underlying asset, and number of time steps in the binomial tree, respectively. We then define a function crr_call that implements the CRR model to calculate the price of the European call option. Finally, we call the function with the input parameters and print the resulting option price.\n"
      ],
      "metadata": {
        "id": "W7i8G-Uq7qC4"
      }
    }
  ]
}