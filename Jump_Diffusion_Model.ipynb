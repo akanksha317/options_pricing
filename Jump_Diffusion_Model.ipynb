{
  "nbformat": 4,
  "nbformat_minor": 0,
  "metadata": {
    "colab": {
      "provenance": []
    },
    "kernelspec": {
      "name": "python3",
      "display_name": "Python 3"
    },
    "language_info": {
      "name": "python"
    }
  },
  "cells": [
    {
      "cell_type": "markdown",
      "source": [
        "The Jump Diffusion model is a financial pricing model used to value derivatives that assumes that the underlying asset's returns follow a normal distribution but with the addition of occasional sudden and large price movements, or \"jumps\". The model uses stochastic calculus to describe the evolution of the underlying asset price over time, incorporating the effect of jumps in addition to the usual continuous diffusion process.\n",
        "\n",
        "The Jump Diffusion model has several parameters, including the drift rate (which determines the expected return on the asset), the volatility of the continuous diffusion component (which determines the degree of randomness in the asset's price movements), the jump frequency (which determines how often jumps occur), and the jump size (which determines the magnitude of the jumps when they occur).\n",
        "\n",
        "One popular implementation of the Jump Diffusion model is the Merton model, named after economist Robert Merton. The Merton model assumes that the jumps in the asset price are caused by events such as changes in macroeconomic conditions, corporate events, or news announcements.\n",
        "\n",
        "The Jump Diffusion model is commonly used in the valuation of options and other derivatives, particularly in cases where sudden and unexpected events may have a significant impact on the underlying asset's price.\n",
        "\n",
        "\n",
        "Here's some code in Python to price a European call option using the Jump Diffusion model:"
      ],
      "metadata": {
        "id": "7XJ8L5i59zNS"
      }
    },
    {
      "cell_type": "code",
      "execution_count": 2,
      "metadata": {
        "id": "lEWIBH_A5jp7",
        "colab": {
          "base_uri": "https://localhost:8080/"
        },
        "outputId": "c77a013a-772f-40a3-cd25-36abd00b4d41"
      },
      "outputs": [
        {
          "output_type": "stream",
          "name": "stdout",
          "text": [
            "The price of the call option is: 25.293484809095656\n"
          ]
        }
      ],
      "source": [
        "import numpy as np\n",
        "import scipy.stats as st\n",
        "\n",
        "def jump_diffusion(S0, r, sigma, lamda, mu, delta, T, N, K):\n",
        "    dt = T/N\n",
        "    rj = lamda*(np.exp(mu+0.5*delta**2)-1)\n",
        "    S = np.zeros((N+1,))\n",
        "    S[0] = S0\n",
        "    for i in range(1, N+1):\n",
        "        z1 = np.random.normal()\n",
        "        z2 = np.random.normal()\n",
        "        S[i] = S[i-1]*np.exp((r-rj-0.5*sigma**2)*dt+sigma*np.sqrt(dt)*z1+delta*z2*np.sqrt(dt))\n",
        "    C = np.exp(-r*T)*np.mean(np.maximum(S[-1]-K,0))\n",
        "    return C\n",
        "\n",
        "\n",
        "S0 = 100\n",
        "r = 0.05\n",
        "sigma = 0.2\n",
        "lamda = 0.2\n",
        "mu = -0.2\n",
        "delta = 0.1\n",
        "T = 1\n",
        "N = 252\n",
        "K = 110\n",
        "\n",
        "call_price = jump_diffusion(S0, r, sigma, lamda, mu, delta, T, N, K)\n",
        "\n",
        "print(\"The price of the call option is:\", call_price)\n",
        "\n"
      ]
    },
    {
      "cell_type": "markdown",
      "source": [
        "In this code, we define a function jump_diffusion that takes the same inputs as the Black-Scholes model, along with lamda, mu, and delta, which are the parameters that control the jump process. We then simulate the stock price using a loop that generates random numbers for the diffusion process and the jump process. Finally, we calculate the option price using the mean of the simulated payoffs.\n",
        "\n",
        "We then set the input values for the stock price (S0), the risk-free rate (r), the volatility (sigma), the jump intensity (lamda), the jump mean (mu), the jump standard deviation (delta), the time to maturity (T), the number of time steps (N), and the strike price (K). We call the jump_diffusion function to calculate the price of the call option, and print the result.\n",
        "\n",
        "Note that this code is for a European call option only. If you want to price a European put option or an American option, you will need to modify the code accordingly"
      ],
      "metadata": {
        "id": "i_adY0TK-Aaf"
      }
    }
  ]
}