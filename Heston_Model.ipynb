{
  "nbformat": 4,
  "nbformat_minor": 0,
  "metadata": {
    "colab": {
      "provenance": []
    },
    "kernelspec": {
      "name": "python3",
      "display_name": "Python 3"
    },
    "language_info": {
      "name": "python"
    }
  },
  "cells": [
    {
      "cell_type": "markdown",
      "source": [
        "The Heston model is a mathematical model used in quantitative finance to price options. It is named after its creator, Steven Heston. The Heston model is a stochastic volatility model that assumes that the volatility of the underlying asset follows a stochastic process, as opposed to the Black-Scholes model, which assumes that volatility is constant.\n",
        "\n",
        "The Heston model consists of two stochastic differential equations (SDEs) that describe the evolution of the stock price and the volatility. The first SDE describes the evolution of the stock price:\n",
        "\n",
        "$dS_t = \\mu S_t dt + \\sqrt{V_t} S_t dW_{1,t}$\n",
        "\n",
        "where $S_t$ is the stock price at time $t$, $\\mu$ is the expected return of the stock, $V_t$ is the volatility of the stock, and $W_{1,t}$ is a Wiener process.\n",
        "\n",
        "The second SDE describes the evolution of the volatility:\n",
        "\n",
        "$dV_t = \\kappa(\\theta - V_t) dt + \\xi \\sqrt{V_t} dW_{2,t}$\n",
        "\n",
        "where $V_t$ is the volatility at time $t$, $\\kappa$ is the rate at which the volatility reverts to its long-term mean $\\theta$, $\\theta$ is the long-term mean of the volatility, $\\xi$ is the volatility of the volatility (also known as the \"vol of vol\"), and $W_{2,t}$ is another Wiener process.\n",
        "\n",
        "The Heston model is used to price European call and put options. The price of an option under the Heston model is calculated using a Fourier transform of the characteristic function of the joint distribution of the stock price and the volatility. This makes the Heston model computationally more expensive than the Black-Scholes model, but it is more accurate in situations where the volatility of the underlying asset is not constant."
      ],
      "metadata": {
        "id": "STbOx_rdI_T5"
      }
    },
    {
      "cell_type": "code",
      "execution_count": 7,
      "metadata": {
        "id": "ZJ4_hk2Z4gAf"
      },
      "outputs": [],
      "source": [
        "import numpy as np\n",
        "from scipy.stats import norm\n",
        "\n",
        "def heston_option_price(S, K, T, r, q, v0, kappa, theta, sigma, rho, n_sim, n_steps):\n",
        "    # Define parameters\n",
        "    S = 100\n",
        "    K = 110\n",
        "    T = 1\n",
        "    r = 0.05\n",
        "    q = 0\n",
        "    v0 = 0.02\n",
        "    kappa = 2\n",
        "    theta = 0.02\n",
        "    sigma = 0.3\n",
        "    rho = -0.5\n",
        "    n_sim = 100000\n",
        "    n_steps = 100\n",
        "    \n",
        "    # Define constants\n",
        "    dt = T / n_steps\n",
        "    sqrtdt = np.sqrt(dt)\n",
        "    rho1 = np.sqrt(1 - rho**2)\n",
        "    # Generate random numbers\n",
        "    Z1 = np.random.normal(size=(n_sim, n_steps))\n",
        "    Z2 = rho * Z1 + rho1 * np.random.normal(size=(n_sim, n_steps))\n",
        "    # Initialize arrays\n",
        "    S_path = np.zeros((n_sim, n_steps + 1))\n",
        "    v_path = np.zeros((n_sim, n_steps + 1))\n",
        "    # Set initial values\n",
        "    S_path[:, 0] = S\n",
        "    v_path[:, 0] = v0\n",
        "    # Generate paths\n",
        "    for i in range(1, n_steps + 1):\n",
        "        # Compute variance at current time step\n",
        "        v_path[:, i] = np.maximum(0, v_path[:, i-1] + kappa * (theta - v_path[:, i-1]) * dt +\n",
        "                                   sigma * np.sqrt(v_path[:, i-1]) * sqrtdt * Z1[:, i-1])\n",
        "        # Compute stock price at current time step\n",
        "        S_path[:, i] = S_path[:, i-1] * np.exp((r - q - 0.5 * v_path[:, i-1]) * dt +\n",
        "                                               np.sqrt(v_path[:, i-1]) * sqrtdt * Z2[:, i-1])\n",
        "    # Compute option prices\n",
        "    payoff = np.maximum(0, S_path[:, -1] - K)\n",
        "    option_price = np.exp(-r * T) * np.mean(payoff)\n",
        "    return option_price\n",
        "\n"
      ]
    },
    {
      "cell_type": "code",
      "source": [
        "\n",
        "\n",
        "\n",
        "# Call function and assign output to variable\n",
        "option_price = heston_option_price(S, K, T, r, q, v0, kappa, theta, sigma, rho, n_sim, n_steps)\n",
        "\n",
        "# Print the result\n",
        "print(\"The option price is:\", option_price)\n"
      ],
      "metadata": {
        "colab": {
          "base_uri": "https://localhost:8080/"
        },
        "id": "ipCiU3YdJvJg",
        "outputId": "59b6ae83-dce0-4097-ddf8-87f136428bc2"
      },
      "execution_count": 8,
      "outputs": [
        {
          "output_type": "stream",
          "name": "stdout",
          "text": [
            "The option price is: 3.2164679068803843\n"
          ]
        }
      ]
    },
    {
      "cell_type": "markdown",
      "source": [
        "This function takes the following inputs:\n",
        "\n",
        "* S: current stock price\n",
        "* K: option strike price\n",
        "* T: option time to maturity (in years)\n",
        "* r: risk-free interest rate\n",
        "* q: dividend yield\n",
        "* v0: initial variance of the Heston model\n",
        "* kappa: mean reversion speed of the variance process\n",
        "* theta: long-run variance level of the variance process\n",
        "* sigma: volatility of the variance process\n",
        "* rho: correlation coefficient between the stock price and the variance process\n",
        "* n_sim: number of Monte Carlo simulations\n",
        "* n_steps: number of time steps in the simulation\n",
        "\n",
        "And it returns the option price estimated using Monte Carlo simulation"
      ],
      "metadata": {
        "id": "S6bzIhqrJR9a"
      }
    }
  ]
}