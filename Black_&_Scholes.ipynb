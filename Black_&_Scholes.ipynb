{
  "nbformat": 4,
  "nbformat_minor": 0,
  "metadata": {
    "colab": {
      "provenance": []
    },
    "kernelspec": {
      "name": "python3",
      "display_name": "Python 3"
    },
    "language_info": {
      "name": "python"
    }
  },
  "cells": [
    {
      "cell_type": "markdown",
      "source": [
        "**Implementing Black & Scholes in Python**\n",
        "The Black-Scholes model is a mathematical model used to price European-style options, where the underlying asset has no dividends. It was developed by Fischer Black and Myron Scholes in 1973 and has become one of the most widely used options pricing models.\n",
        "\n",
        "The Black-Scholes model uses the following variables:\n",
        "\n",
        "Stock price: the current market price of the underlying stock.\n",
        "Strike price: the price at which the option can be exercised.\n",
        "Time to expiration: the length of time until the option expires.\n",
        "Risk-free interest rate: the rate of return for a risk-free investment over the life of the option.\n",
        "Volatility: the measure of how much the stock price fluctuates over time.\n",
        "The Black-Scholes model assumes that the stock price follows a random walk and that the option can be exercised only at expiration. It also assumes that there are no transaction costs, no taxes, and that short selling is allowed.\n",
        "\n",
        "The model uses partial differential equations to determine the theoretical value of an option at a given point in time. The formula takes into account the five variables mentioned above and gives a theoretical value for the option, assuming that the stock price follows a log-normal distribution.\n",
        "\n",
        "The Black-Scholes model is widely used by investors and traders to calculate the fair value of options, and to make informed decisions about whether to buy or sell options based on their current market price and expected future price movements."
      ],
      "metadata": {
        "id": "4c-c8MsYd51_"
      }
    },
    {
      "cell_type": "code",
      "source": [
        "#Importing Libraries\n",
        "import numpy as np\n",
        "from scipy.stats import norm"
      ],
      "metadata": {
        "id": "-CudecggeWfJ"
      },
      "execution_count": null,
      "outputs": []
    },
    {
      "cell_type": "code",
      "source": [
        "#Setting Variables\n",
        "\n",
        "r=0.01 #risk-free rate\n",
        "S=30 #Stock/Underlying Price\n",
        "K=40 #Strike Price (Fixed option price for an underlying asset)\n",
        "T=240/365 #Timeline\n",
        "sigma=0.30 #Volatility"
      ],
      "metadata": {
        "id": "bWnC6XKOeAOb"
      },
      "execution_count": null,
      "outputs": []
    },
    {
      "cell_type": "code",
      "execution_count": 7,
      "metadata": {
        "id": "59LUABtichD5"
      },
      "outputs": [],
      "source": [
        "\n",
        "\n",
        "def blackScholes(r, S, K, T, sigma, type=\"c\"):\n",
        "    \"Calculate BS price of call/put\"\n",
        "    d1 = (np.log(S/K) + (r + sigma**2/2)*T)/(sigma*np.sqrt(T))\n",
        "    d2 = d1 - sigma*np.sqrt(T)\n",
        "    try:\n",
        "        if type == \"call\":\n",
        "            price = S*norm.cdf(d1, 0, 1) - K*np.exp(-r*T)*norm.cdf(d2, 0, 1)\n",
        "        elif type == \"put\":\n",
        "            price = K*np.exp(-r*T)*norm.cdf(-d2, 0, 1) - S*norm.cdf(-d1, 0, 1)\n",
        "        return price\n",
        "    except:\n",
        "        print(\"Please confirm option type, either 'c' for Call or 'p' for Put!\")\n"
      ]
    },
    {
      "cell_type": "code",
      "source": [
        "print(\"Option Price is:\",round(blackScholes(r, S, K, T, sigma, type=\"call\"),2) )"
      ],
      "metadata": {
        "colab": {
          "base_uri": "https://localhost:8080/"
        },
        "id": "IOpGGE8zezdx",
        "outputId": "0df0b5b9-5bb0-40f6-8568-41011abf8fc8"
      },
      "execution_count": 11,
      "outputs": [
        {
          "output_type": "stream",
          "name": "stdout",
          "text": [
            "Option Price is: 0.51\n"
          ]
        }
      ]
    },
    {
      "cell_type": "code",
      "source": [
        "print(\"Option Price is:\",round(blackScholes(r, S, K, T, sigma, type=\"put\"),2) )"
      ],
      "metadata": {
        "colab": {
          "base_uri": "https://localhost:8080/"
        },
        "id": "KkIYWclAD6Vm",
        "outputId": "4a7e35e7-1d3d-4217-af39-d381ce8953ce"
      },
      "execution_count": 14,
      "outputs": [
        {
          "output_type": "stream",
          "name": "stdout",
          "text": [
            "Option Price is: 10.68\n"
          ]
        }
      ]
    }
  ]
}