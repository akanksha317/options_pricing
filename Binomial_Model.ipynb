{
  "nbformat": 4,
  "nbformat_minor": 0,
  "metadata": {
    "colab": {
      "provenance": []
    },
    "kernelspec": {
      "name": "python3",
      "display_name": "Python 3"
    },
    "language_info": {
      "name": "python"
    }
  },
  "cells": [
    {
      "cell_type": "markdown",
      "source": [
        "The **Binomial Model** is another commonly used method for pricing options. It works by modeling the price of the underlying asset as a binomial process, where the price can either go up or down over each time step. The model then calculates the option value at each node of the binomial tree, working backwards from the final node to the initial node.\n",
        "\n",
        "Here is the code in Python to price a European call option using the Binomial Model:"
      ],
      "metadata": {
        "id": "0BEl1HPN8fRm"
      }
    },
    {
      "cell_type": "code",
      "execution_count": 7,
      "metadata": {
        "id": "EiKUD0Ta5Y59"
      },
      "outputs": [],
      "source": [
        "import numpy as np\n",
        "\n",
        "def binomial_tree_call(S, K, r, sigma, T, N):\n",
        "    \n",
        "    # Calculate the size of each time step\n",
        "    dt = T/N\n",
        "    \n",
        "    # Calculate the up and down factors for each time step\n",
        "    u = np.exp(sigma * np.sqrt(dt))\n",
        "    d = 1 / u\n",
        "    \n",
        "    # Calculate the risk-neutral probability of an up move\n",
        "    p = (np.exp(r * dt) - d) / (u - d)\n",
        "    \n",
        "    # Initialize the final option values at maturity\n",
        "    S_T = S * u**np.arange(N+1) * d**(N-np.arange(N+1))\n",
        "    V_T = np.maximum(S_T - K, 0)\n",
        "    \n",
        "    # Work backwards through the tree to calculate option values at earlier time steps\n",
        "    for i in range(N-1, -1, -1):\n",
        "        S_i = S * u**np.arange(i+1) * d**(N-i-np.arange(i+1))\n",
        "        V_i = np.exp(-r*dt) * (p * V_T[:-1] + (1-p) * V_T[1:])\n",
        "        V_T = np.maximum(S_i - K, V_i)\n",
        "    \n",
        "    # Return the option value at time 0\n",
        "    return V_T[0]\n",
        "\n"
      ]
    },
    {
      "cell_type": "code",
      "source": [
        "S = 100\n",
        "K = 105\n",
        "r = 0.05\n",
        "sigma = 0.2\n",
        "T = 1\n",
        "N = 100\n",
        "\n",
        "option_price = binomial_tree_call(S, K, r, sigma, T, N)\n",
        "print(option_price)\n"
      ],
      "metadata": {
        "colab": {
          "base_uri": "https://localhost:8080/"
        },
        "id": "X6dyZzDVEn3t",
        "outputId": "6285b68a-f419-44d1-847a-e54556f27229"
      },
      "execution_count": 8,
      "outputs": [
        {
          "output_type": "stream",
          "name": "stdout",
          "text": [
            "569.0539477317003\n"
          ]
        }
      ]
    },
    {
      "cell_type": "markdown",
      "source": [
        "In this example, we are pricing an European call option with an initial stock price of 100, a strike price of 105, a risk-free interest rate of 5%, a volatility of 20%, a time to maturity of 1 year, and 100 time steps in the binomial tree. The output will be the estimated call option price based on the Binomial Model."
      ],
      "metadata": {
        "id": "t1IXD9V98mGl"
      }
    }
  ]
}