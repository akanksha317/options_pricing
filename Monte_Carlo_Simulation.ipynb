{
  "nbformat": 4,
  "nbformat_minor": 0,
  "metadata": {
    "colab": {
      "provenance": []
    },
    "kernelspec": {
      "name": "python3",
      "display_name": "Python 3"
    },
    "language_info": {
      "name": "python"
    }
  },
  "cells": [
    {
      "cell_type": "markdown",
      "source": [
        "Monte Carlo simulation is a computational method that uses random sampling and statistical analysis to model and solve complex problems. In finance, Monte Carlo simulation can be used to price financial derivatives such as options, which are contracts that give the owner the right to buy or sell an underlying asset at a predetermined price.\n",
        "\n",
        "To price an option using Monte Carlo simulation, we first need to define a model for the underlying asset price. A common model used in options pricing is the Black-Scholes model, which assumes that the underlying asset follows a geometric Brownian motion. This model can be expressed as:\n",
        "\n",
        "dS = rSdt + σSdW\n",
        "\n",
        "where S is the asset price, r is the risk-free interest rate, σ is the volatility, t is time, and dW is a Wiener process or Brownian motion.\n",
        "\n",
        "Next, we use this model to simulate a large number of possible paths for the asset price. This is done by generating a series of random numbers, typically from a normal distribution, and using them to update the asset price at each time step. The number of simulations required depends on the complexity of the option and the desired level of accuracy.\n",
        "\n",
        "Once we have simulated the asset prices, we can use them to calculate the payoff of the option at the expiration date. For example, for a call option, the payoff is the maximum of zero and the difference between the asset price and the strike price. For a put option, the payoff is the maximum of zero and the difference between the strike price and the asset price.\n",
        "\n",
        "Finally, we calculate the expected payoff by taking the average of the payoffs across all simulations, and discounting it to the present value using the risk-free interest rate. This gives us the estimated price of the option.\n",
        "\n",
        "Monte Carlo simulation is a powerful technique that can handle complex models and path-dependent options. However, it can be computationally intensive and requires careful parameter selection and calibration to ensure accurate results.\n",
        "\n",
        "\n",
        "\n"
      ],
      "metadata": {
        "id": "t52RBO1k9Lyp"
      }
    },
    {
      "cell_type": "code",
      "execution_count": 3,
      "metadata": {
        "id": "ntW-v4M-5ePC",
        "colab": {
          "base_uri": "https://localhost:8080/"
        },
        "outputId": "25d013c6-737b-489a-8753-b60b8244968b"
      },
      "outputs": [
        {
          "output_type": "stream",
          "name": "stdout",
          "text": [
            "The Monte Carlo estimated option price is: 9.342916910693736\n"
          ]
        }
      ],
      "source": [
        "import numpy as np\n",
        "\n",
        "def simulate_stock_prices(S0, r, sigma, T, N):\n",
        "    \"\"\"Simulate N stock price paths using the Black-Scholes model.\"\"\"\n",
        "    # Calculate the drift and the standard deviation\n",
        "    drift = r - 0.5 * sigma ** 2\n",
        "    std_dev = sigma * np.sqrt(T)\n",
        "    # Generate random normal numbers for the simulations\n",
        "    Z1 = np.random.normal(size=(N,))\n",
        "    Z2 = np.random.normal(size=(N,))\n",
        "    # Simulate the stock prices\n",
        "    ST = S0 * np.exp(drift * T + std_dev * (Z1 + Z2*np.sqrt(1-0.5**2)))\n",
        "    return ST\n",
        "\n",
        "# Define the parameters\n",
        "initial_stock_price = 100  # initial stock price\n",
        "strike_price = 110  # strike price\n",
        "risk_free_rate = 0.05  # risk-free interest rate\n",
        "volatility = 0.2  # volatility\n",
        "time_to_maturity = 1  # time to maturity\n",
        "number_of_simulations = 1000000  # number of simulations\n",
        "\n",
        "# Simulate the stock prices and calculate the payoffs\n",
        "stock_prices = simulate_stock_prices(initial_stock_price, risk_free_rate, volatility, time_to_maturity, number_of_simulations)\n",
        "payoffs = np.maximum(stock_prices - strike_price, 0)\n",
        "\n",
        "# Calculate the option price as the expected payoff discounted at the risk-free rate\n",
        "option_price = np.exp(-risk_free_rate * time_to_maturity) * np.mean(payoffs)\n",
        "\n",
        "print(\"The Monte Carlo estimated option price is:\", option_price)\n",
        "\n"
      ]
    }
  ]
}